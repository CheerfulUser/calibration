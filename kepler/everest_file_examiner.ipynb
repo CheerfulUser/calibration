{
 "cells": [
  {
   "cell_type": "code",
   "execution_count": 1,
   "metadata": {},
   "outputs": [],
   "source": [
    "from astropy.io import fits\n",
    "import numpy as np\n",
    "import pandas as pd\n",
    "import matplotlib.pyplot as plt\n",
    "from glob import glob"
   ]
  },
  {
   "cell_type": "code",
   "execution_count": 4,
   "metadata": {},
   "outputs": [],
   "source": []
  },
  {
   "cell_type": "code",
   "execution_count": 36,
   "metadata": {
    "scrolled": false
   },
   "outputs": [],
   "source": []
  },
  {
   "cell_type": "code",
   "execution_count": 65,
   "metadata": {},
   "outputs": [
    {
     "data": {
      "text/plain": [
       "1"
      ]
     },
     "execution_count": 65,
     "metadata": {},
     "output_type": "execute_result"
    }
   ],
   "source": [
    "len(np.where(epic == df['ID'])[0])"
   ]
  },
  {
   "cell_type": "code",
   "execution_count": 68,
   "metadata": {},
   "outputs": [
    {
     "name": "stdout",
     "output_type": "stream",
     "text": [
      "done:  ./everest/ktwo211909073-c16_llc.fits\n"
     ]
    }
   ],
   "source": [
    "\n",
    "path = './everest/'\n",
    "thing = 'K2_c16_stars_PS1.csv'\n",
    "\n",
    "df = pd.read_csv(thing)\n",
    "lc_df = df.copy()\n",
    "\n",
    "lc_df['Module'] = -1\n",
    "lc_df['Channel'] = -1\n",
    "lc_df['Output'] = -1\n",
    "\n",
    "lc_df['PDC'] = -1\n",
    "lc_df['PDCe'] = -1\n",
    "\n",
    "lc_df['SAP'] = -1\n",
    "lc_df['SAPe'] = -1\n",
    "\n",
    "\n",
    "files = glob(path + '*.fits')\n",
    "for file in files:\n",
    "    hdu = fits.open(file)\n",
    "    hdr = hdu[0].header\n",
    "    module = hdr['module']\n",
    "    channel = hdr['channel']\n",
    "    output = hdr['output']\n",
    "\n",
    "    pdc = hdu[1].data.field('PDCSAP_FLUX')\n",
    "    pdc_e = hdu[1].data.field('PDCSAP_FLUX_ERR')\n",
    "\n",
    "    sap = hdu[1].data.field('SAP_FLUX')\n",
    "    sap_e = hdu[1].data.field('SAP_FLUX_ERR')\n",
    "\n",
    "    epic = int(file.split('ktwo')[-1].split('-')[0])\n",
    "    pos = np.where(epic == df['ID'])[0]\n",
    "    if len(pos) > 0:\n",
    "        pos = pos[0]\n",
    "\n",
    "\n",
    "        lc_df['Module'].iloc[pos] = int(module)\n",
    "        lc_df['Channel'].iloc[pos] = int(channel)\n",
    "        lc_df['Output'].iloc[pos] = int(output)\n",
    "\n",
    "        lc_df['PDC'].iloc[pos] = np.nanmedian(pdc)\n",
    "        lc_df['PDCe'].iloc[pos] = np.nanmedian(pdc_e)\n",
    "\n",
    "        lc_df['SAP'].iloc[pos] = np.nanmedian(sap)\n",
    "        lc_df['SAPe'].iloc[pos] = np.nanmedian(sap_e)\n",
    "    print('done: ', file)\n",
    "lc_df.to_csv('K2_c16_stars_PS1_detectors.csv',index=False)"
   ]
  },
  {
   "cell_type": "code",
   "execution_count": 69,
   "metadata": {},
   "outputs": [
    {
     "data": {
      "text/plain": [
       "ID                  2.119091e+08\n",
       "RAJ2000             1.299345e+02\n",
       "DEJ2000             1.886170e+01\n",
       "objID               1.306313e+17\n",
       "raMean              1.299345e+02\n",
       "decMean             1.886162e+01\n",
       "raMeanErr           1.900000e-03\n",
       "decMeanErr          1.120000e-02\n",
       "qualityFlag         6.000000e+01\n",
       "gMeanPSFMag         1.535570e+01\n",
       "gMeanPSFMagErr      5.457000e-03\n",
       "gMeanPSFMagNpt      1.100000e+01\n",
       "rMeanPSFMag         1.432800e+01\n",
       "rMeanPSFMagErr      1.850000e-03\n",
       "rMeanPSFMagNpt      1.300000e+01\n",
       "iMeanPSFMag         1.386170e+01\n",
       "iMeanPSFMagErr      2.355000e-03\n",
       "iMeanPSFMagNpt      1.200000e+01\n",
       "zMeanPSFMag         1.365850e+01\n",
       "zMeanPSFMagErr      2.197000e-03\n",
       "zMeanPSFMagNpt      9.000000e+00\n",
       "yMeanPSFMag         1.351600e+01\n",
       "yMeanPSFMagErr      5.656000e-03\n",
       "yMeanPSFMagNpt      1.300000e+01\n",
       "rMeanKronMag        1.437870e+01\n",
       "rMeanKronMagErr     2.676000e-03\n",
       "nDetections         8.400000e+01\n",
       "ng                  1.200000e+01\n",
       "nr                  1.800000e+01\n",
       "ni                  2.100000e+01\n",
       "nz                  1.700000e+01\n",
       "ny                  1.600000e+01\n",
       "gFlags              1.150000e+05\n",
       "gQfPerfect          9.996500e-01\n",
       "rFlags              1.150000e+05\n",
       "rQfPerfect          9.998280e-01\n",
       "iFlags              1.150000e+05\n",
       "iQfPerfect          9.996830e-01\n",
       "zFlags              1.150000e+05\n",
       "zQfPerfect          9.993170e-01\n",
       "yFlags              1.150000e+05\n",
       "yQfPerfect          9.997530e-01\n",
       "primaryDetection    1.000000e+00\n",
       "bestDetection       1.000000e+00\n",
       "Module              8.000000e+00\n",
       "Channel             2.400000e+01\n",
       "Output              4.000000e+00\n",
       "PDC                 2.588109e+04\n",
       "PDCe                5.319509e+00\n",
       "SAP                 2.394209e+04\n",
       "SAPe                4.869251e+00\n",
       "Name: 1584, dtype: float64"
      ]
     },
     "execution_count": 69,
     "metadata": {},
     "output_type": "execute_result"
    }
   ],
   "source": [
    "lc_df.iloc[pos]"
   ]
  },
  {
   "cell_type": "code",
   "execution_count": 34,
   "metadata": {},
   "outputs": [],
   "source": [
    "files = glob(path + '*.fits')"
   ]
  },
  {
   "cell_type": "code",
   "execution_count": 39,
   "metadata": {},
   "outputs": [
    {
     "data": {
      "text/plain": [
       "0       211406605\n",
       "1       211407208\n",
       "2       211409659\n",
       "3       211406483\n",
       "4       211409870\n",
       "          ...    \n",
       "2441    212174148\n",
       "2442    212166091\n",
       "2443    212168876\n",
       "2444    212175620\n",
       "2445    212178463\n",
       "Name: ID, Length: 2446, dtype: int64"
      ]
     },
     "execution_count": 39,
     "metadata": {},
     "output_type": "execute_result"
    }
   ],
   "source": [
    "df['ID']"
   ]
  },
  {
   "cell_type": "code",
   "execution_count": 37,
   "metadata": {},
   "outputs": [],
   "source": [
    "df = pd.read_csv(thing)"
   ]
  },
  {
   "cell_type": "code",
   "execution_count": 70,
   "metadata": {},
   "outputs": [],
   "source": [
    "df = pd.read_csv('K2_c16_stars_PS1_detectors.csv')"
   ]
  },
  {
   "cell_type": "code",
   "execution_count": 72,
   "metadata": {},
   "outputs": [],
   "source": [
    "ind = np.where(df['Module']!= -1)[0]"
   ]
  },
  {
   "cell_type": "code",
   "execution_count": 73,
   "metadata": {},
   "outputs": [
    {
     "data": {
      "text/plain": [
       "array([   0,    1,    2, ..., 2443, 2444, 2445])"
      ]
     },
     "execution_count": 73,
     "metadata": {},
     "output_type": "execute_result"
    }
   ],
   "source": [
    "ind"
   ]
  },
  {
   "cell_type": "code",
   "execution_count": 74,
   "metadata": {},
   "outputs": [],
   "source": [
    "df = df.iloc[ind]"
   ]
  },
  {
   "cell_type": "code",
   "execution_count": 75,
   "metadata": {},
   "outputs": [],
   "source": [
    "df.to_csv('K2_PS1_c16_stars.csv',index=False)"
   ]
  },
  {
   "cell_type": "code",
   "execution_count": 4,
   "metadata": {},
   "outputs": [],
   "source": [
    "eh = fits.open('./everest/hlsp_everest_k2_llc_201371288-c01_kepler_v2.0_lc.fits')"
   ]
  },
  {
   "cell_type": "code",
   "execution_count": 17,
   "metadata": {
    "scrolled": false
   },
   "outputs": [
    {
     "data": {
      "text/plain": [
       "XTENSION= 'IMAGE   '           / Image extension                                \n",
       "BITPIX  =                  -64 / array data type                                \n",
       "NAXIS   =                    2 / number of array dimensions                     \n",
       "NAXIS1  =                  170                                                  \n",
       "NAXIS2  =                  170                                                  \n",
       "PCOUNT  =                    0 / number of parameters                           \n",
       "GCOUNT  =                    1 / number of groups                               \n",
       "COMMENT ************************                                                \n",
       "COMMENT *     MISSION INFO     *                                                \n",
       "COMMENT ************************                                                \n",
       "TELESCOP= 'Kepler  '           / telescope                                      \n",
       "INSTRUME= 'Kepler Photometer'  / detector type                                  \n",
       "OBJECT  = 'EPIC 201371288'     / string version of target id                    \n",
       "KEPLERID=            201371288 / unique Kepler target identifier                \n",
       "RADESYS = 'ICRS    '           / reference frame of celestial coordinates       \n",
       "RA_OBJ  =           167.008005 / [deg] right ascension                          \n",
       "DEC_OBJ =            -1.394074 / [deg] declination                              \n",
       "EQUINOX =               2000.0 / equinox of celestial coordinate system         \n",
       "WCSAXES =                    2 / number of WCS axes                             \n",
       "CTYPE1  = 'RA---TAN'           / right ascension coordinate type                \n",
       "CTYPE2  = 'DEC--TAN'           / declination coordinate type                    \n",
       "CRPIX1  =    9.849039713516163 / [pixel] reference pixel along image axis 1     \n",
       "CRPIX2  =    8.775366037899346 / [pixel] reference pixel along image axis 2     \n",
       "CRVAL1  =           167.008005 / [deg] right ascension at reference pixel       \n",
       "CRVAL2  =            -1.394074 / [deg] declination at reference pixel           \n",
       "CUNIT1  = 'deg     '           / physical unit in column dimension              \n",
       "CUNIT2  = 'deg     '           / physical unit in row dimension                 \n",
       "CDELT1  =   -0.001104240948806 / [deg] pixel scale in RA dimension              \n",
       "CDELT2  =    0.001104240948806 / [deg] pixel scale in Dec dimension             \n",
       "PC1_1   =  -0.1612212778013359 / linear transformation element cos(th)          \n",
       "PC1_2   =  -0.9870831328324632 / linear transformation element -sin(th)         \n",
       "PC2_1   =   0.9866358548857523 / linear transformation element sin(th)          \n",
       "PC2_2   =  -0.1619413377104488 / linear transformation element cos(th)          \n",
       "WCSNAMEP= 'PHYSICAL'           / name of world coordinate system alternate P    \n",
       "WCSAXESP=                    2 / number of WCS physical axes                    \n",
       "CTYPE1P = 'RAWX    '           / physical WCS axis 1 type CCD col               \n",
       "CUNIT1P = 'PIXEL   '           / physical WCS axis 1 unit                       \n",
       "CRPIX1P =                    1 / reference CCD column                           \n",
       "CRVAL1P =                  157 / value at reference CCD column                  \n",
       "CDELT1P =                  1.0 / physical WCS axis 1 step                       \n",
       "CTYPE2P = 'RAWY    '           / physical WCS axis 2 type CCD row               \n",
       "CUNIT2P = 'PIXEL   '           / physical WCS axis 2 units                      \n",
       "CRPIX2P =                    1 / reference CCD row                              \n",
       "CRVAL2P =                  467 / value at reference CCD row                     \n",
       "CDELT2P =                  1.0 / physical WCS axis 2 step                       \n",
       "NPIXSAP =                   13 / Number of pixels in optimal aperture           \n",
       "NPIXMISS=                    0 / Number of op. aperture pixels not collected    \n",
       "COMMENT ************************                                                \n",
       "COMMENT *     EVEREST INFO     *                                                \n",
       "COMMENT ************************                                                \n",
       "MISSION = 'k2      '           / Mission name                                   \n",
       "VERSION = '2.0     '           / EVEREST pipeline version                       \n",
       "DATE    = '2017-01-14'         / EVEREST file creation date (YYYY-MM-DD)        \n",
       "EXTNAME = 'HI RES IMAGE'       / extension name                                 "
      ]
     },
     "execution_count": 17,
     "metadata": {},
     "output_type": "execute_result"
    }
   ],
   "source": [
    "eh[5].header"
   ]
  },
  {
   "cell_type": "code",
   "execution_count": 21,
   "metadata": {},
   "outputs": [
    {
     "data": {
      "text/plain": [
       "FITS_rec([(91332.,  32338.22390413,  85173.36968994, 10.93459125, 4194313, 1975.17799118,  32044.45041234, 1., 2.71400236, 2.82770422,  3.33857293, 0.48504366, -3.40009718, 234.28779602),\n",
       "          (91333.,  31568.60850692,  84755.10534668, 10.92495025, 4194305, 1975.19842337,  31274.76049829, 1., 2.71479423, 2.82585985,  3.322646  , 0.47316263, -3.38132539, 234.47848511),\n",
       "          (91334.,  31317.25912648,  84735.58139038, 10.92229291, 4202497, 1975.21885557,  31023.33738539, 1., 2.71557776, 2.82399786,  3.30674526, 0.46134032, -3.36256642, 233.88746643),\n",
       "          ...,\n",
       "          (95351., 103687.71689975, 104020.96044922, 12.24124883,       0, 2057.29345754, 103487.15496609, 1., 3.72780713, 1.15828242, -0.18556044, 0.56111331, -2.51351533, 650.79589844),\n",
       "          (95352., 103708.15258062, 104099.277771  , 12.24771911,       0, 2057.31388951, 103507.41271263, 1., 3.73067343, 1.15342498, -0.1957677 , 0.57328187, -2.47415364, 651.03967285),\n",
       "          (95353., 103705.57445657, 104202.34429932, 12.26069708,       0, 2057.33432148, 103504.65704557, 1., 3.73353343, 1.14853017, -0.20603815, 0.58550606, -2.43442618, 651.37689209)],\n",
       "         dtype=(numpy.record, [('CADN', '>f8'), ('FLUX', '>f8'), ('FRAW', '>f8'), ('FRAW_ERR', '>f8'), ('QUALITY', '>i4'), ('TIME', '>f8'), ('FCOR', '>f8'), ('CBV01', '>f8'), ('CBV02', '>f8'), ('CBV03', '>f8'), ('CBV04', '>f8'), ('CBV05', '>f8'), ('CBV06', '>f8'), ('BKG', '>f8')]))"
      ]
     },
     "execution_count": 21,
     "metadata": {},
     "output_type": "execute_result"
    }
   ],
   "source": [
    "eh[1].data"
   ]
  },
  {
   "cell_type": "code",
   "execution_count": 22,
   "metadata": {},
   "outputs": [
    {
     "data": {
      "text/plain": [
       "array([ 32338.22390413,  31568.60850692,  31317.25912648, ...,\n",
       "       103687.71689975, 103708.15258062, 103705.57445657])"
      ]
     },
     "execution_count": 22,
     "metadata": {},
     "output_type": "execute_result"
    }
   ],
   "source": [
    "eh[1].data['FLUX']"
   ]
  },
  {
   "cell_type": "code",
   "execution_count": 23,
   "metadata": {},
   "outputs": [
    {
     "data": {
      "text/plain": [
       "[<matplotlib.lines.Line2D at 0x118125160>]"
      ]
     },
     "execution_count": 23,
     "metadata": {},
     "output_type": "execute_result"
    },
    {
     "data": {
      "image/png": "[encoded data removed]",
      "text/plain": [
       "<Figure size 432x288 with 1 Axes>"
      ]
     },
     "metadata": {
      "needs_background": "light"
     },
     "output_type": "display_data"
    }
   ],
   "source": [
    "plt.figure()\n",
    "plt.plot(eh[1].data['FLUX'])"
   ]
  },
  {
   "cell_type": "code",
   "execution_count": null,
   "metadata": {},
   "outputs": [],
   "source": []
  }
 ],
 "metadata": {
  "kernelspec": {
   "display_name": "Python 3",
   "language": "python",
   "name": "python3"
  },
  "language_info": {
   "codemirror_mode": {
    "name": "ipython",
    "version": 3
   },
   "file_extension": ".py",
   "mimetype": "text/x-python",
   "name": "python",
   "nbconvert_exporter": "python",
   "pygments_lexer": "ipython3",
   "version": "3.7.3"
  }
 },
 "nbformat": 4,
 "nbformat_minor": 4
}
